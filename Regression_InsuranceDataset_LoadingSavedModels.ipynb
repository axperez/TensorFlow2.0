{
 "metadata": {
  "language_info": {
   "codemirror_mode": {
    "name": "ipython",
    "version": 3
   },
   "file_extension": ".py",
   "mimetype": "text/x-python",
   "name": "python",
   "nbconvert_exporter": "python",
   "pygments_lexer": "ipython3",
   "version": "3.8.2-final"
  },
  "orig_nbformat": 2,
  "kernelspec": {
   "name": "Python 3.8.2 64-bit",
   "display_name": "Python 3.8.2 64-bit",
   "metadata": {
    "interpreter": {
     "hash": "31f2aee4e71d21fbe5cf8b01ff0e069b9275f58929596ceb00d14d90e3e16cd6"
    }
   }
  }
 },
 "nbformat": 4,
 "nbformat_minor": 2,
 "cells": [
  {
   "cell_type": "code",
   "execution_count": 1,
   "metadata": {},
   "outputs": [],
   "source": [
    "import pprint\n",
    "import json\n",
    "\n",
    "import pandas as pd\n",
    "\n",
    "from sklearn.metrics import r2_score\n",
    "from sklearn.model_selection import train_test_split\n",
    "\n",
    "import tensorflow as tf\n",
    "\n",
    "from tensorflow import keras\n",
    "from tensorflow.keras import layers"
   ]
  },
  {
   "cell_type": "code",
   "execution_count": 2,
   "metadata": {},
   "outputs": [],
   "source": [
    "import tensorflow_docs as tfdocs\n",
    "import tensorflow_docs.modeling\n",
    "import tensorflow_docs.plots"
   ]
  },
  {
   "cell_type": "code",
   "execution_count": 3,
   "metadata": {},
   "outputs": [
    {
     "output_type": "execute_result",
     "data": {
      "text/plain": [
       "        age       bmi  children  sex  smoker  region_northeast  \\\n",
       "0 -1.438764 -0.453320 -0.908614    0       1                 0   \n",
       "1 -1.509965  0.509621 -0.078767    1       0                 0   \n",
       "2 -0.797954  0.383307  1.580926    1       0                 0   \n",
       "3 -0.441948 -1.305531 -0.908614    1       0                 0   \n",
       "4 -0.513149 -0.292556 -0.908614    1       0                 0   \n",
       "\n",
       "   region_northwest  region_southeast  region_southwest      charges  \n",
       "0                 0                 0                 1  16884.92400  \n",
       "1                 0                 1                 0   1725.55230  \n",
       "2                 0                 1                 0   4449.46200  \n",
       "3                 1                 0                 0  21984.47061  \n",
       "4                 1                 0                 0   3866.85520  "
      ],
      "text/html": "<div>\n<style scoped>\n    .dataframe tbody tr th:only-of-type {\n        vertical-align: middle;\n    }\n\n    .dataframe tbody tr th {\n        vertical-align: top;\n    }\n\n    .dataframe thead th {\n        text-align: right;\n    }\n</style>\n<table border=\"1\" class=\"dataframe\">\n  <thead>\n    <tr style=\"text-align: right;\">\n      <th></th>\n      <th>age</th>\n      <th>bmi</th>\n      <th>children</th>\n      <th>sex</th>\n      <th>smoker</th>\n      <th>region_northeast</th>\n      <th>region_northwest</th>\n      <th>region_southeast</th>\n      <th>region_southwest</th>\n      <th>charges</th>\n    </tr>\n  </thead>\n  <tbody>\n    <tr>\n      <th>0</th>\n      <td>-1.438764</td>\n      <td>-0.453320</td>\n      <td>-0.908614</td>\n      <td>0</td>\n      <td>1</td>\n      <td>0</td>\n      <td>0</td>\n      <td>0</td>\n      <td>1</td>\n      <td>16884.92400</td>\n    </tr>\n    <tr>\n      <th>1</th>\n      <td>-1.509965</td>\n      <td>0.509621</td>\n      <td>-0.078767</td>\n      <td>1</td>\n      <td>0</td>\n      <td>0</td>\n      <td>0</td>\n      <td>1</td>\n      <td>0</td>\n      <td>1725.55230</td>\n    </tr>\n    <tr>\n      <th>2</th>\n      <td>-0.797954</td>\n      <td>0.383307</td>\n      <td>1.580926</td>\n      <td>1</td>\n      <td>0</td>\n      <td>0</td>\n      <td>0</td>\n      <td>1</td>\n      <td>0</td>\n      <td>4449.46200</td>\n    </tr>\n    <tr>\n      <th>3</th>\n      <td>-0.441948</td>\n      <td>-1.305531</td>\n      <td>-0.908614</td>\n      <td>1</td>\n      <td>0</td>\n      <td>0</td>\n      <td>1</td>\n      <td>0</td>\n      <td>0</td>\n      <td>21984.47061</td>\n    </tr>\n    <tr>\n      <th>4</th>\n      <td>-0.513149</td>\n      <td>-0.292556</td>\n      <td>-0.908614</td>\n      <td>1</td>\n      <td>0</td>\n      <td>0</td>\n      <td>1</td>\n      <td>0</td>\n      <td>0</td>\n      <td>3866.85520</td>\n    </tr>\n  </tbody>\n</table>\n</div>"
     },
     "metadata": {},
     "execution_count": 3
    }
   ],
   "source": [
    "processed_data = pd.read_csv('datasets/insurance_processed.csv')\n",
    "\n",
    "processed_data.head()"
   ]
  },
  {
   "cell_type": "code",
   "execution_count": 4,
   "metadata": {},
   "outputs": [],
   "source": [
    "processed_features = processed_data.drop('charges', axis=1)\n",
    "\n",
    "target = processed_data[['charges']]"
   ]
  },
  {
   "cell_type": "code",
   "execution_count": 5,
   "metadata": {},
   "outputs": [],
   "source": [
    "x_train, x_test, y_train, y_test = train_test_split(processed_features,\n",
    "                                                    target,\n",
    "                                                    test_size=0.2,\n",
    "                                                    random_state=1)"
   ]
  },
  {
   "cell_type": "code",
   "execution_count": 7,
   "metadata": {},
   "outputs": [
    {
     "output_type": "execute_result",
     "data": {
      "text/plain": [
       "((1070, 9), (1070, 1))"
      ]
     },
     "metadata": {},
     "execution_count": 7
    }
   ],
   "source": [
    "x_train.shape, y_train.shape"
   ]
  },
  {
   "cell_type": "code",
   "execution_count": 10,
   "metadata": {},
   "outputs": [
    {
     "output_type": "execute_result",
     "data": {
      "text/plain": [
       "((268, 9), (268, 1))"
      ]
     },
     "metadata": {},
     "execution_count": 10
    }
   ],
   "source": [
    "x_test.shape, y_test.shape"
   ]
  },
  {
   "cell_type": "code",
   "execution_count": 11,
   "metadata": {},
   "outputs": [],
   "source": [
    "with open('./my_models/relu_64_config.json', 'r') as infile:\n",
    "\n",
    "    model_json = json.load(infile)"
   ]
  },
  {
   "cell_type": "code",
   "execution_count": 12,
   "metadata": {},
   "outputs": [
    {
     "output_type": "stream",
     "name": "stdout",
     "text": [
      "{'backend': 'tensorflow',\n 'class_name': 'Sequential',\n 'config': {'layers': [{'class_name': 'InputLayer',\n                        'config': {'batch_input_shape': [None, 9],\n                                   'dtype': 'float32',\n                                   'name': 'dense_6_input',\n                                   'ragged': False,\n                                   'sparse': False}},\n                       {'class_name': 'Dense',\n                        'config': {'activation': 'elu',\n                                   'activity_regularizer': None,\n                                   'batch_input_shape': [None, 9],\n                                   'bias_constraint': None,\n                                   'bias_initializer': {'class_name': 'Zeros',\n                                                        'config': {}},\n                                   'bias_regularizer': None,\n                                   'dtype': 'float32',\n                                   'kernel_constraint': None,\n                                   'kernel_initializer': {'class_name': 'GlorotUniform',\n                                                          'config': {'seed': None}},\n                                   'kernel_regularizer': None,\n                                   'name': 'dense_6',\n                                   'trainable': True,\n                                   'units': 32,\n                                   'use_bias': True}},\n                       {'class_name': 'Dropout',\n                        'config': {'dtype': 'float32',\n                                   'name': 'dropout_1',\n                                   'noise_shape': None,\n                                   'rate': 0.2,\n                                   'seed': None,\n                                   'trainable': True}},\n                       {'class_name': 'Dense',\n                        'config': {'activation': 'elu',\n                                   'activity_regularizer': None,\n                                   'bias_constraint': None,\n                                   'bias_initializer': {'class_name': 'Zeros',\n                                                        'config': {}},\n                                   'bias_regularizer': None,\n                                   'dtype': 'float32',\n                                   'kernel_constraint': None,\n                                   'kernel_initializer': {'class_name': 'GlorotUniform',\n                                                          'config': {'seed': None}},\n                                   'kernel_regularizer': None,\n                                   'name': 'dense_7',\n                                   'trainable': True,\n                                   'units': 64,\n                                   'use_bias': True}},\n                       {'class_name': 'Dense',\n                        'config': {'activation': 'linear',\n                                   'activity_regularizer': None,\n                                   'bias_constraint': None,\n                                   'bias_initializer': {'class_name': 'Zeros',\n                                                        'config': {}},\n                                   'bias_regularizer': None,\n                                   'dtype': 'float32',\n                                   'kernel_constraint': None,\n                                   'kernel_initializer': {'class_name': 'GlorotUniform',\n                                                          'config': {'seed': None}},\n                                   'kernel_regularizer': None,\n                                   'name': 'dense_8',\n                                   'trainable': True,\n                                   'units': 1,\n                                   'use_bias': True}}],\n            'name': 'sequential_2'},\n 'keras_version': '2.4.0'}\n"
     ]
    }
   ],
   "source": [
    "pprint.pprint(model_json)"
   ]
  },
  {
   "cell_type": "code",
   "execution_count": null,
   "metadata": {},
   "outputs": [],
   "source": []
  }
 ]
}