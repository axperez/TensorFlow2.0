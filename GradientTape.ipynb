{
 "metadata": {
  "language_info": {
   "codemirror_mode": {
    "name": "ipython",
    "version": 3
   },
   "file_extension": ".py",
   "mimetype": "text/x-python",
   "name": "python",
   "nbconvert_exporter": "python",
   "pygments_lexer": "ipython3",
   "version": "3.8.2-final"
  },
  "orig_nbformat": 2,
  "kernelspec": {
   "name": "Python 3.8.2 64-bit",
   "display_name": "Python 3.8.2 64-bit",
   "metadata": {
    "interpreter": {
     "hash": "31f2aee4e71d21fbe5cf8b01ff0e069b9275f58929596ceb00d14d90e3e16cd6"
    }
   }
  }
 },
 "nbformat": 4,
 "nbformat_minor": 2,
 "cells": [
  {
   "source": [
    "import numpy as np\n",
    "import matplotlib.pyplot as plt\n",
    "\n",
    "import tensorflow as tf"
   ],
   "cell_type": "code",
   "metadata": {},
   "execution_count": 1,
   "outputs": []
  },
  {
   "cell_type": "code",
   "execution_count": 2,
   "metadata": {},
   "outputs": [
    {
     "output_type": "execute_result",
     "data": {
      "text/plain": "<tf.Tensor: shape=(), dtype=float32, numpy=16.0>"
     },
     "metadata": {},
     "execution_count": 2
    }
   ],
   "source": [
    "x = tf.Variable(4.0)\n",
    "\n",
    "with tf.GradientTape() as tape:\n",
    "    y = x**2\n",
    "\n",
    "y"
   ]
  },
  {
   "cell_type": "code",
   "execution_count": 3,
   "metadata": {},
   "outputs": [
    {
     "output_type": "execute_result",
     "data": {
      "text/plain": "<tf.Tensor: shape=(), dtype=float32, numpy=8.0>"
     },
     "metadata": {},
     "execution_count": 3
    }
   ],
   "source": [
    "dy_dx = tape.gradient(y, x)\n",
    "\n",
    "dy_dx"
   ]
  },
  {
   "cell_type": "code",
   "execution_count": 4,
   "metadata": {},
   "outputs": [
    {
     "output_type": "execute_result",
     "data": {
      "text/plain": "<tf.Variable 'Variable:0' shape=(4, 2) dtype=float32, numpy=\narray([[-2.4982426,  1.7598327],\n       [ 1.3411921,  0.6966203],\n       [ 0.7098624, -1.8340112],\n       [-1.0298057, -1.8976494]], dtype=float32)>"
     },
     "metadata": {},
     "execution_count": 4
    }
   ],
   "source": [
    "w = tf.Variable(tf.random.normal((4, 2)))\n",
    "\n",
    "w"
   ]
  },
  {
   "cell_type": "code",
   "execution_count": 5,
   "metadata": {},
   "outputs": [
    {
     "output_type": "execute_result",
     "data": {
      "text/plain": "<tf.Variable 'Variable:0' shape=(2,) dtype=float32, numpy=array([1., 1.], dtype=float32)>"
     },
     "metadata": {},
     "execution_count": 5
    }
   ],
   "source": [
    "b = tf.Variable(tf.ones(2, dtype=tf.float32))\n",
    "\n",
    "b"
   ]
  },
  {
   "cell_type": "code",
   "execution_count": 6,
   "metadata": {},
   "outputs": [
    {
     "output_type": "execute_result",
     "data": {
      "text/plain": "<tf.Variable 'Variable:0' shape=(1, 4) dtype=float32, numpy=array([[10., 20., 30., 40.]], dtype=float32)>"
     },
     "metadata": {},
     "execution_count": 6
    }
   ],
   "source": [
    "x = tf.Variable([[10., 20., 30., 40.]], dtype=tf.float32)\n",
    "\n",
    "x"
   ]
  },
  {
   "cell_type": "code",
   "execution_count": 7,
   "metadata": {},
   "outputs": [],
   "source": [
    "with tf.GradientTape(persistent=True) as tape:\n",
    "    y = tf.matmul(x, w) + b\n",
    "\n",
    "    loss = tf.reduce_mean(y**2)"
   ]
  },
  {
   "cell_type": "code",
   "execution_count": 8,
   "metadata": {},
   "outputs": [
    {
     "output_type": "execute_result",
     "data": {
      "text/plain": "(<tf.Tensor: shape=(4, 2), dtype=float32, numpy=\n array([[ -170.54938,  -983.95575],\n        [ -341.09875, -1967.9115 ],\n        [ -511.64813, -2951.8672 ],\n        [ -682.1975 , -3935.823  ]], dtype=float32)>,\n <tf.Tensor: shape=(2,), dtype=float32, numpy=array([-17.054937, -98.39558 ], dtype=float32)>)"
     },
     "metadata": {},
     "execution_count": 8
    }
   ],
   "source": [
    "[dl_dw, dl_db] = tape.gradient(loss, [w, b])\n",
    "\n",
    "dl_dw, dl_db"
   ]
  },
  {
   "cell_type": "code",
   "execution_count": 9,
   "metadata": {},
   "outputs": [],
   "source": [
    "layer = tf.keras.layers.Dense(2, activation='relu')\n",
    "x = tf.constant([[10., 20., 30.]])"
   ]
  },
  {
   "cell_type": "code",
   "execution_count": 10,
   "metadata": {},
   "outputs": [],
   "source": [
    "with tf.GradientTape() as tape:\n",
    "    y = layer(x)\n",
    "\n",
    "    loss = tf.reduce_sum(y**2)\n",
    "\n",
    "grad = tape.gradient(loss, layer.trainable_variables)"
   ]
  },
  {
   "cell_type": "code",
   "execution_count": 11,
   "metadata": {},
   "outputs": [
    {
     "output_type": "execute_result",
     "data": {
      "text/plain": "[<tf.Tensor: shape=(3, 2), dtype=float32, numpy=\n array([[0., 0.],\n        [0., 0.],\n        [0., 0.]], dtype=float32)>,\n <tf.Tensor: shape=(2,), dtype=float32, numpy=array([0., 0.], dtype=float32)>]"
     },
     "metadata": {},
     "execution_count": 11
    }
   ],
   "source": [
    "grad"
   ]
  },
  {
   "cell_type": "code",
   "execution_count": 12,
   "metadata": {},
   "outputs": [
    {
     "output_type": "execute_result",
     "data": {
      "text/plain": "<tf.Variable 'Variable:0' shape=() dtype=float32, numpy=5.0>"
     },
     "metadata": {},
     "execution_count": 12
    }
   ],
   "source": [
    "x1 = tf.Variable(5.0)\n",
    "\n",
    "x1"
   ]
  },
  {
   "cell_type": "code",
   "execution_count": 13,
   "metadata": {},
   "outputs": [
    {
     "output_type": "execute_result",
     "data": {
      "text/plain": "<tf.Variable 'Variable:0' shape=() dtype=float32, numpy=5.0>"
     },
     "metadata": {},
     "execution_count": 13
    }
   ],
   "source": [
    "x2 = tf.Variable(5.0, trainable=False)\n",
    "\n",
    "x2"
   ]
  },
  {
   "cell_type": "code",
   "execution_count": 14,
   "metadata": {},
   "outputs": [
    {
     "output_type": "execute_result",
     "data": {
      "text/plain": "<tf.Tensor: shape=(), dtype=float32, numpy=10.0>"
     },
     "metadata": {},
     "execution_count": 14
    }
   ],
   "source": [
    "x3 = tf.add(x1, x2)\n",
    "\n",
    "x3"
   ]
  },
  {
   "cell_type": "code",
   "execution_count": 16,
   "metadata": {},
   "outputs": [
    {
     "output_type": "execute_result",
     "data": {
      "text/plain": "<tf.Tensor: shape=(), dtype=float32, numpy=5.0>"
     },
     "metadata": {},
     "execution_count": 16
    }
   ],
   "source": [
    "x4 = tf.constant(5.0)\n",
    "\n",
    "x4"
   ]
  },
  {
   "cell_type": "code",
   "execution_count": 17,
   "metadata": {},
   "outputs": [
    {
     "output_type": "execute_result",
     "data": {
      "text/plain": "[<tf.Tensor: shape=(), dtype=float32, numpy=10.0>, None, None, None]"
     },
     "metadata": {},
     "execution_count": 17
    }
   ],
   "source": [
    "with tf.GradientTape() as tape:\n",
    "        y = (x1**2) + (x2**2) + (x3**2) + (x4**2)\n",
    "\n",
    "grad = tape.gradient(y, [x1, x2, x3, x4])\n",
    "\n",
    "grad"
   ]
  },
  {
   "cell_type": "code",
   "execution_count": 18,
   "metadata": {},
   "outputs": [],
   "source": [
    "x1 = tf.constant(5.0)\n",
    "\n",
    "x2 = tf.Variable(3.0)"
   ]
  },
  {
   "cell_type": "code",
   "execution_count": 19,
   "metadata": {},
   "outputs": [
    {
     "output_type": "execute_result",
     "data": {
      "text/plain": "[<tf.Tensor: shape=(), dtype=float32, numpy=10.0>,\n <tf.Tensor: shape=(), dtype=float32, numpy=6.0>]"
     },
     "metadata": {},
     "execution_count": 19
    }
   ],
   "source": [
    "with tf.GradientTape() as tape:\n",
    "    tape.watch(x1)\n",
    "\n",
    "    y = (x1**2) + (x2**2)\n",
    "\n",
    "[dy_dx1, dy_dx2] = tape.gradient(y, [x1, x2])\n",
    "\n",
    "[dy_dx1, dy_dx2]"
   ]
  },
  {
   "cell_type": "code",
   "execution_count": 20,
   "metadata": {},
   "outputs": [
    {
     "output_type": "execute_result",
     "data": {
      "text/plain": "[<tf.Tensor: shape=(), dtype=float32, numpy=10.0>, None]"
     },
     "metadata": {},
     "execution_count": 20
    }
   ],
   "source": [
    "with tf.GradientTape(watch_accessed_variables=False) as tape:\n",
    "    tape.watch(x1)\n",
    "\n",
    "    y = (x1**2) + (x2**2)\n",
    "\n",
    "[dy_dx1, dy_dx2] = tape.gradient(y, [x1, x2])\n",
    "\n",
    "[dy_dx1, dy_dx2]"
   ]
  },
  {
   "cell_type": "code",
   "execution_count": 21,
   "metadata": {},
   "outputs": [],
   "source": [
    "x = tf.constant(1.0)\n",
    "x1 = tf.Variable(5.0)\n",
    "x2 = tf.Variable(3.0)"
   ]
  },
  {
   "cell_type": "code",
   "execution_count": 22,
   "metadata": {},
   "outputs": [
    {
     "output_type": "execute_result",
     "data": {
      "text/plain": "(<tf.Tensor: shape=(), dtype=float32, numpy=10.0>, None)"
     },
     "metadata": {},
     "execution_count": 22
    }
   ],
   "source": [
    "with tf.GradientTape(persistent=True) as tape:\n",
    "    tape.watch(x)\n",
    "\n",
    "    if x > 0.0:\n",
    "        result = x1**2\n",
    "    else:\n",
    "        result = x2**2\n",
    "\n",
    "dx1, dx2 = tape.gradient(result, [x1, x2])\n",
    "\n",
    "dx1, dx2"
   ]
  },
  {
   "cell_type": "code",
   "execution_count": 23,
   "metadata": {},
   "outputs": [],
   "source": [
    "x = tf.constant(-1.0)\n",
    "x1 = tf.Variable(5.0)\n",
    "x2 = tf.Variable(3.0)"
   ]
  },
  {
   "cell_type": "code",
   "execution_count": 24,
   "metadata": {},
   "outputs": [
    {
     "output_type": "execute_result",
     "data": {
      "text/plain": "(None, <tf.Tensor: shape=(), dtype=float32, numpy=6.0>)"
     },
     "metadata": {},
     "execution_count": 24
    }
   ],
   "source": [
    "with tf.GradientTape(persistent=True) as tape:\n",
    "    tape.watch(x)\n",
    "\n",
    "    if x > 0.0:\n",
    "        result = x1**2\n",
    "    else:\n",
    "        result = x2**2\n",
    "\n",
    "dx1, dx2 = tape.gradient(result, [x1, x2])\n",
    "\n",
    "dx1, dx2"
   ]
  },
  {
   "cell_type": "code",
   "execution_count": 25,
   "metadata": {
    "tags": []
   },
   "outputs": [
    {
     "output_type": "stream",
     "name": "stdout",
     "text": "None\n"
    }
   ],
   "source": [
    "x = tf.Variable(2.)\n",
    "y = tf.Variable(3.)\n",
    "\n",
    "with tf.GradientTape() as tape:\n",
    "    z = y * y\n",
    "\n",
    "    dy_dx = tape.gradient(z, x)\n",
    "\n",
    "print(dy_dx)"
   ]
  },
  {
   "cell_type": "code",
   "execution_count": null,
   "metadata": {},
   "outputs": [],
   "source": []
  }
 ]
}