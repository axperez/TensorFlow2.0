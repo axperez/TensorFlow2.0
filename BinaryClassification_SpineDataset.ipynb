{
 "metadata": {
  "language_info": {
   "codemirror_mode": {
    "name": "ipython",
    "version": 3
   },
   "file_extension": ".py",
   "mimetype": "text/x-python",
   "name": "python",
   "nbconvert_exporter": "python",
   "pygments_lexer": "ipython3",
   "version": "3.8.2-final"
  },
  "orig_nbformat": 2,
  "kernelspec": {
   "name": "Python 3.8.2 64-bit",
   "display_name": "Python 3.8.2 64-bit",
   "metadata": {
    "interpreter": {
     "hash": "31f2aee4e71d21fbe5cf8b01ff0e069b9275f58929596ceb00d14d90e3e16cd6"
    }
   }
  }
 },
 "nbformat": 4,
 "nbformat_minor": 2,
 "cells": [
  {
   "cell_type": "code",
   "execution_count": 1,
   "metadata": {},
   "outputs": [],
   "source": [
    "import os\n",
    "import datetime\n",
    "\n",
    "import pandas as pd\n",
    "import numpy as np\n",
    "\n",
    "import matplotlib.pyplot as plt\n",
    "import seaborn as sns\n",
    "\n",
    "from sklearn.preprocessing import StandardScaler\n",
    "from sklearn.metrics import accuracy_score, precision_score, recall_score\n",
    "from sklearn.model_selection import train_test_split\n",
    "\n",
    "import tensorflow as tf\n",
    "\n",
    "from tensorflow import keras\n",
    "from tensorflow.keras import layers\n",
    "\n",
    "tf.keras.backend.clear_session()"
   ]
  },
  {
   "cell_type": "code",
   "execution_count": 2,
   "metadata": {},
   "outputs": [],
   "source": [
    "spine_data = pd.read_csv('datasets/Dataset_spine.csv',\n",
    "                         skiprows=1,\n",
    "                         index_col=False,\n",
    "                         names = ['pelvic_incidence',\n",
    "                                  'pelvic_tilt',\n",
    "                                  'lumbar_lordosis_angle',\n",
    "                                  'sacral_slope',\n",
    "                                  'pelvic_radius',\n",
    "                                  'degree_spondylolisthesis',\n",
    "                                  'pelvic_slope',\n",
    "                                  'direct_tilt',\n",
    "                                  'thoracic_slope',\n",
    "                                  'cervical_tilt',\n",
    "                                  'sacrum_angle',\n",
    "                                  'scoliosis_slope',\n",
    "                                  'class_att'])\n",
    "spine_data = spine_data.sample(frac=1).reset_index(drop=True)"
   ]
  },
  {
   "cell_type": "code",
   "execution_count": 3,
   "metadata": {},
   "outputs": [
    {
     "output_type": "execute_result",
     "data": {
      "text/plain": [
       "     pelvic_incidence  pelvic_tilt  ...  scoliosis_slope  class_att\n",
       "0           48.995958    13.113820  ...          11.9857     Normal\n",
       "1           46.236399    10.062770  ...          40.2061     Normal\n",
       "2           65.756348    13.206926  ...          31.7892     Normal\n",
       "3           49.782121     6.466805  ...          38.4719   Abnormal\n",
       "4           59.167612    14.562749  ...          16.7094     Normal\n",
       "..                ...          ...  ...              ...        ...\n",
       "305         57.300227    24.188885  ...          13.2498   Abnormal\n",
       "306         34.756738     2.631740  ...          44.3412     Normal\n",
       "307         50.209670    29.760122  ...          31.6999   Abnormal\n",
       "308         85.581710    30.457039  ...          40.4629   Abnormal\n",
       "309         41.767732    17.899402  ...          11.6156   Abnormal\n",
       "\n",
       "[310 rows x 13 columns]"
      ],
      "text/html": "<div>\n<style scoped>\n    .dataframe tbody tr th:only-of-type {\n        vertical-align: middle;\n    }\n\n    .dataframe tbody tr th {\n        vertical-align: top;\n    }\n\n    .dataframe thead th {\n        text-align: right;\n    }\n</style>\n<table border=\"1\" class=\"dataframe\">\n  <thead>\n    <tr style=\"text-align: right;\">\n      <th></th>\n      <th>pelvic_incidence</th>\n      <th>pelvic_tilt</th>\n      <th>lumbar_lordosis_angle</th>\n      <th>sacral_slope</th>\n      <th>pelvic_radius</th>\n      <th>degree_spondylolisthesis</th>\n      <th>pelvic_slope</th>\n      <th>direct_tilt</th>\n      <th>thoracic_slope</th>\n      <th>cervical_tilt</th>\n      <th>sacrum_angle</th>\n      <th>scoliosis_slope</th>\n      <th>class_att</th>\n    </tr>\n  </thead>\n  <tbody>\n    <tr>\n      <th>0</th>\n      <td>48.995958</td>\n      <td>13.113820</td>\n      <td>51.873520</td>\n      <td>35.882137</td>\n      <td>126.398188</td>\n      <td>0.535472</td>\n      <td>0.732730</td>\n      <td>33.7477</td>\n      <td>7.5426</td>\n      <td>15.74090</td>\n      <td>-6.421289</td>\n      <td>11.9857</td>\n      <td>Normal</td>\n    </tr>\n    <tr>\n      <th>1</th>\n      <td>46.236399</td>\n      <td>10.062770</td>\n      <td>37.000000</td>\n      <td>36.173629</td>\n      <td>128.063620</td>\n      <td>-5.100053</td>\n      <td>0.860784</td>\n      <td>9.5912</td>\n      <td>15.1769</td>\n      <td>16.49989</td>\n      <td>-22.420021</td>\n      <td>40.2061</td>\n      <td>Normal</td>\n    </tr>\n    <tr>\n      <th>2</th>\n      <td>65.756348</td>\n      <td>13.206926</td>\n      <td>44.000000</td>\n      <td>52.549422</td>\n      <td>129.393573</td>\n      <td>-1.982120</td>\n      <td>0.727537</td>\n      <td>33.2640</td>\n      <td>17.5228</td>\n      <td>8.31382</td>\n      <td>6.972071</td>\n      <td>31.7892</td>\n      <td>Normal</td>\n    </tr>\n    <tr>\n      <th>3</th>\n      <td>49.782121</td>\n      <td>6.466805</td>\n      <td>53.000000</td>\n      <td>43.315316</td>\n      <td>110.864783</td>\n      <td>25.335647</td>\n      <td>0.334657</td>\n      <td>17.6515</td>\n      <td>11.7040</td>\n      <td>16.26239</td>\n      <td>-0.895590</td>\n      <td>38.4719</td>\n      <td>Abnormal</td>\n    </tr>\n    <tr>\n      <th>4</th>\n      <td>59.167612</td>\n      <td>14.562749</td>\n      <td>43.199158</td>\n      <td>44.604863</td>\n      <td>121.035642</td>\n      <td>2.830504</td>\n      <td>0.693906</td>\n      <td>24.8746</td>\n      <td>14.7433</td>\n      <td>8.02792</td>\n      <td>-33.650471</td>\n      <td>16.7094</td>\n      <td>Normal</td>\n    </tr>\n    <tr>\n      <th>...</th>\n      <td>...</td>\n      <td>...</td>\n      <td>...</td>\n      <td>...</td>\n      <td>...</td>\n      <td>...</td>\n      <td>...</td>\n      <td>...</td>\n      <td>...</td>\n      <td>...</td>\n      <td>...</td>\n      <td>...</td>\n      <td>...</td>\n    </tr>\n    <tr>\n      <th>305</th>\n      <td>57.300227</td>\n      <td>24.188885</td>\n      <td>47.000000</td>\n      <td>33.111342</td>\n      <td>116.806587</td>\n      <td>5.766947</td>\n      <td>0.416722</td>\n      <td>16.5158</td>\n      <td>18.6222</td>\n      <td>8.51898</td>\n      <td>-33.441303</td>\n      <td>13.2498</td>\n      <td>Abnormal</td>\n    </tr>\n    <tr>\n      <th>306</th>\n      <td>34.756738</td>\n      <td>2.631740</td>\n      <td>29.504381</td>\n      <td>32.124998</td>\n      <td>127.139850</td>\n      <td>-0.460894</td>\n      <td>0.281612</td>\n      <td>24.1257</td>\n      <td>11.2762</td>\n      <td>11.54866</td>\n      <td>-12.025220</td>\n      <td>44.3412</td>\n      <td>Normal</td>\n    </tr>\n    <tr>\n      <th>307</th>\n      <td>50.209670</td>\n      <td>29.760122</td>\n      <td>36.104007</td>\n      <td>20.449548</td>\n      <td>128.292515</td>\n      <td>5.740614</td>\n      <td>0.031139</td>\n      <td>36.1431</td>\n      <td>13.9907</td>\n      <td>12.90967</td>\n      <td>-30.430498</td>\n      <td>31.6999</td>\n      <td>Abnormal</td>\n    </tr>\n    <tr>\n      <th>308</th>\n      <td>85.581710</td>\n      <td>30.457039</td>\n      <td>78.231379</td>\n      <td>55.124672</td>\n      <td>114.866049</td>\n      <td>68.376122</td>\n      <td>0.624975</td>\n      <td>26.5001</td>\n      <td>11.2204</td>\n      <td>12.33663</td>\n      <td>-15.774389</td>\n      <td>40.4629</td>\n      <td>Abnormal</td>\n    </tr>\n    <tr>\n      <th>309</th>\n      <td>41.767732</td>\n      <td>17.899402</td>\n      <td>20.030886</td>\n      <td>23.868330</td>\n      <td>118.363389</td>\n      <td>2.062963</td>\n      <td>0.371351</td>\n      <td>21.1136</td>\n      <td>7.1646</td>\n      <td>9.82029</td>\n      <td>-6.841914</td>\n      <td>11.6156</td>\n      <td>Abnormal</td>\n    </tr>\n  </tbody>\n</table>\n<p>310 rows × 13 columns</p>\n</div>"
     },
     "metadata": {},
     "execution_count": 3
    }
   ],
   "source": [
    "spine_data"
   ]
  },
  {
   "cell_type": "code",
   "execution_count": null,
   "metadata": {},
   "outputs": [],
   "source": []
  }
 ]
}